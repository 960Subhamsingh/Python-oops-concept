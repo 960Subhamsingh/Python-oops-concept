{
 "cells": [
  {
   "cell_type": "code",
   "execution_count": 9,
   "metadata": {},
   "outputs": [
    {
     "data": {
      "text/plain": [
       "6"
      ]
     },
     "execution_count": 9,
     "metadata": {},
     "output_type": "execute_result"
    }
   ],
   "source": [
    "numbers = [1,2,3,4,5,6]\n",
    "for n in numbers:\n",
    "    total = 0\n",
    "    total+= n\n",
    "total\n"
   ]
  },
  {
   "cell_type": "markdown",
   "metadata": {},
   "source": [
    "Inheritance"
   ]
  },
  {
   "cell_type": "code",
   "execution_count": null,
   "metadata": {},
   "outputs": [],
   "source": [
    "class Car:\n",
    "    def __init__(self,windows , doors, mirror, engine_type, tiwar):\n",
    "        self.windows = windows\n",
    "        self.doors = doors\n",
    "        self.mirror = mirror\n",
    "        self.engine_type = engine_type\n",
    "        self.tiwar = tiwar\n",
    "    def driving(self):\n",
    "        print('Car is used for driving')\n",
    "# Audi car is inherting from car class\n",
    "class Audi(Car):\n",
    "    def __init__(self, windows, doors, mirror, engine_type, tiwar):\n",
    "        super().__init__(windows, doors, mirror, engine_type, tiwar)\n",
    "        self.movement = movement\n",
    "    def selfdriving(self):\n",
    "         print(\"IT is self Driving car\")\n"
   ]
  }
 ],
 "metadata": {
  "kernelspec": {
   "display_name": "Python 3",
   "language": "python",
   "name": "python3"
  },
  "language_info": {
   "codemirror_mode": {
    "name": "ipython",
    "version": 3
   },
   "file_extension": ".py",
   "mimetype": "text/x-python",
   "name": "python",
   "nbconvert_exporter": "python",
   "pygments_lexer": "ipython3",
   "version": "3.10.11"
  }
 },
 "nbformat": 4,
 "nbformat_minor": 2
}
