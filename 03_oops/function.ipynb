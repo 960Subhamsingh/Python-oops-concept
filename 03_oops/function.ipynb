{
 "cells": [
  {
   "cell_type": "code",
   "execution_count": null,
   "metadata": {},
   "outputs": [],
   "source": [
    "\n",
    "import re\n",
    "def do_this():\n",
    "    print(\"Doing this\")\n",
    "def do_that():\n",
    "    print(\"Doing That\")\n",
    "\n",
    "re.match =input(\"Do this or that? \"):\n",
    "\n",
    "# number of Island"
   ]
  }
 ],
 "metadata": {
  "language_info": {
   "name": "python"
  }
 },
 "nbformat": 4,
 "nbformat_minor": 2
}
