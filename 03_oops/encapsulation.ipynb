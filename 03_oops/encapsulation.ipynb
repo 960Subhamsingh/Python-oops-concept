{
 "cells": [
  {
   "cell_type": "markdown",
   "metadata": {},
   "source": [
    "## Encapsulation In Python\n",
    "\n",
    "Encapsulation is a fundamental principle in object-oriented programming that focuses on bundling data and the methods that operate on that data into a single unit called a class. It allows you to control the access and visibility of the data and methods, providing a way to protect and organize your code"
   ]
  },
  {
   "cell_type": "code",
   "execution_count": 20,
   "metadata": {},
   "outputs": [
    {
     "name": "stdout",
     "output_type": "stream",
     "text": [
      "the person name is  subham and the age is 20\n"
     ]
    }
   ],
   "source": [
    "# Access Modifier -- encapsulation\n",
    "# Private\n",
    "\n",
    "class Person:\n",
    "    # constructor\n",
    "    def __init__(self,name, age):\n",
    "        self.__name = name\n",
    "        self.__age = age\n",
    "    def display_info(self):\n",
    "        print(f\"the person name is  {self.__name} and the age is {self.__age}\")\n",
    "person = Person(\"subham\" , 20)\n",
    "person.display_info()"
   ]
  },
  {
   "cell_type": "code",
   "execution_count": 30,
   "metadata": {},
   "outputs": [],
   "source": [
    "## Protected \n",
    "\n",
    "class Person:\n",
    "    ## constructor\n",
    "    def __init__(self,name,age):\n",
    "        self._name=name\n",
    "        self._age=age\n",
    "person = Person(\"kumar\", 21)\n",
    "person._name"
   ]
  },
  {
   "cell_type": "code",
   "execution_count": 31,
   "metadata": {},
   "outputs": [
    {
     "data": {
      "text/plain": [
       "'subham'"
      ]
     },
     "execution_count": 31,
     "metadata": {},
     "output_type": "execute_result"
    }
   ],
   "source": [
    " "
   ]
  }
 ],
 "metadata": {
  "kernelspec": {
   "display_name": "Python 3",
   "language": "python",
   "name": "python3"
  },
  "language_info": {
   "codemirror_mode": {
    "name": "ipython",
    "version": 3
   },
   "file_extension": ".py",
   "mimetype": "text/x-python",
   "name": "python",
   "nbconvert_exporter": "python",
   "pygments_lexer": "ipython3",
   "version": "3.10.11"
  }
 },
 "nbformat": 4,
 "nbformat_minor": 2
}
