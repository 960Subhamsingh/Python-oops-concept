{
 "cells": [
  {
   "cell_type": "markdown",
   "metadata": {},
   "source": [
    "# SQLite Tutorial "
   ]
  },
  {
   "cell_type": "markdown",
   "metadata": {},
   "source": [
    "Documentation at: https://docs.python.org/3/library/sqlite3.html"
   ]
  },
  {
   "cell_type": "markdown",
   "metadata": {},
   "source": [
    "# Quire of SQLite\n",
    "\n",
    "* Data Types .\n",
    "* No Right or Full Outer Joins.\n",
    "* Alter Table is very useful add, Remove , column and table name.\n",
    "* Tables default to having a unique integer rowid column.\n",
    "* SQLite is a library not a service.\n",
    "* In-Memory Database Feature."
   ]
  },
  {
   "cell_type": "markdown",
   "metadata": {},
   "source": [
    "load the sqlite package "
   ]
  },
  {
   "cell_type": "code",
   "execution_count": 1,
   "metadata": {},
   "outputs": [
    {
     "name": "stdout",
     "output_type": "stream",
     "text": [
      "3.40.1\n"
     ]
    }
   ],
   "source": [
    "import sqlite3\n",
    "\n",
    "print(sqlite3.sqlite_version)"
   ]
  },
  {
   "cell_type": "code",
   "execution_count": null,
   "metadata": {},
   "outputs": [],
   "source": []
  },
  {
   "cell_type": "code",
   "execution_count": null,
   "metadata": {},
   "outputs": [],
   "source": []
  },
  {
   "cell_type": "markdown",
   "metadata": {},
   "source": [
    "Connect to the database.  "
   ]
  },
  {
   "cell_type": "code",
   "execution_count": 2,
   "metadata": {},
   "outputs": [],
   "source": [
    "conn = sqlite3.connect('school.db')"
   ]
  },
  {
   "cell_type": "code",
   "execution_count": 3,
   "metadata": {},
   "outputs": [
    {
     "data": {
      "text/plain": [
       "<sqlite3.Cursor at 0x1eb2c64af40>"
      ]
     },
     "execution_count": 3,
     "metadata": {},
     "output_type": "execute_result"
    }
   ],
   "source": [
    "cur = conn.cursor()\n",
    "cur.execute('select * from student')"
   ]
  },
  {
   "cell_type": "code",
   "execution_count": 4,
   "metadata": {},
   "outputs": [
    {
     "data": {
      "text/plain": [
       "(1,\n",
       " 'alyar',\n",
       " '2',\n",
       " 'RED',\n",
       " 'Male',\n",
       " 'A',\n",
       " 'ali',\n",
       " 'pabbi',\n",
       " 333,\n",
       " 2000,\n",
       " 345,\n",
       " 1000.0,\n",
       " 400.0,\n",
       " 300.0,\n",
       " 300.0,\n",
       " 300.0,\n",
       " 'Paid')"
      ]
     },
     "execution_count": 4,
     "metadata": {},
     "output_type": "execute_result"
    }
   ],
   "source": [
    "cur.fetchone()"
   ]
  },
  {
   "cell_type": "code",
   "execution_count": 5,
   "metadata": {},
   "outputs": [
    {
     "name": "stdout",
     "output_type": "stream",
     "text": [
      "(3, 'arfa jani', '1', 'YELLOW', 'Female', 'D', 'maryam', 'PABBI', 335, 1000, 345, 1200.0, 200.0, 1000.0, 1000.0, 400.0, 'Unpaid')\n"
     ]
    }
   ],
   "source": [
    "print(cur.fetchone())"
   ]
  },
  {
   "cell_type": "code",
   "execution_count": 7,
   "metadata": {},
   "outputs": [
    {
     "name": "stdout",
     "output_type": "stream",
     "text": [
      "(1, 'alyar', '2', 'RED', 'Male', 'A', 'ali', 'pabbi', 333, 2000, 345, 1000.0, 400.0, 300.0, 300.0, 300.0, 'Paid')\n",
      "(3, 'arfa jani', '1', 'YELLOW', 'Female', 'D', 'maryam', 'PABBI', 335, 1000, 345, 1200.0, 200.0, 1000.0, 1000.0, 400.0, 'Unpaid')\n",
      "(4, 'azam', '3', 'RED', 'Male', 'A', 'ali', 'pabbi', 345, 3000, 3331234567, 300.0, 0.0, 0.0, 0.0, 0.0, 'Paid')\n",
      "(5, 'bacha', '5', 'RED', 'Male', 'A', 'tariq', 'pabbi', 123456789, 5000, 3331234567, 1000.0, 1000.0, 3000.0, 3000.0, 1000.0, 'Paid')\n",
      "(6, 'ali khan', '1', 'RED', 'Male', 'A', 'tariq', 'pabbi', 1234567890, 1000, 3331234567, 1000.0, 500.0, 1000.0, 1000.0, 200.0, 'Paid')\n",
      "(7, 'hamza', '4', 'RED', 'Male', 'A', 'tatiq', 'pabbi', 12121212, 2000, 3331234567, 1000.0, 2000.0, 2000.0, 1000.0, 1000.0, 'Paid')\n",
      "(8, 'maryam', '3', 'BLUE', 'Female', 'B', 'tariq', 'pabbi', 3331234567, 1000, 3331234567, 0.0, 0.0, 0.0, 0.0, 0.0, 'Unpaid')\n",
      "(9, 'alyar Tariq', '1', 'BLUE', 'Male', 'B', 'tariq', 'usman abad', 3339139164, 1000, 3331234567, 500.0, 300.0, 200.0, 1000.0, 200.0, 'Unpaid')\n",
      "(10, 'nimra', '3', 'GREEN', 'Female', 'C', 'maryam', 'pabbi', 331, 2000, 3331234567, 200.0, 0.0, 200.0, 1000.0, 200.0, 'Unpaid')\n"
     ]
    }
   ],
   "source": [
    "for row in cur.execute('SELECT * FROM student'):\n",
    "    print(row)"
   ]
  },
  {
   "cell_type": "code",
   "execution_count": 8,
   "metadata": {},
   "outputs": [
    {
     "name": "stdout",
     "output_type": "stream",
     "text": [
      "(1, 'alyar', '2', 'RED', 'Male', 'A', 'ali', 'pabbi', 333, 2000, 345, 1000.0, 400.0, 300.0, 300.0, 300.0, 'Paid')\n",
      "(3, 'arfa jani', '1', 'YELLOW', 'Female', 'D', 'maryam', 'PABBI', 335, 1000, 345, 1200.0, 200.0, 1000.0, 1000.0, 400.0, 'Unpaid')\n",
      "(4, 'azam', '3', 'RED', 'Male', 'A', 'ali', 'pabbi', 345, 3000, 3331234567, 300.0, 0.0, 0.0, 0.0, 0.0, 'Paid')\n"
     ]
    }
   ],
   "source": [
    "for row in cur.execute('SELECT * FROM student limit 3'):\n",
    "    print(row)"
   ]
  },
  {
   "cell_type": "code",
   "execution_count": 9,
   "metadata": {},
   "outputs": [],
   "source": [
    "import pandas as pd"
   ]
  },
  {
   "cell_type": "code",
   "execution_count": 10,
   "metadata": {},
   "outputs": [
    {
     "data": {
      "text/html": [
       "<div>\n",
       "<style scoped>\n",
       "    .dataframe tbody tr th:only-of-type {\n",
       "        vertical-align: middle;\n",
       "    }\n",
       "\n",
       "    .dataframe tbody tr th {\n",
       "        vertical-align: top;\n",
       "    }\n",
       "\n",
       "    .dataframe thead th {\n",
       "        text-align: right;\n",
       "    }\n",
       "</style>\n",
       "<table border=\"1\" class=\"dataframe\">\n",
       "  <thead>\n",
       "    <tr style=\"text-align: right;\">\n",
       "      <th></th>\n",
       "      <th>id</th>\n",
       "      <th>name</th>\n",
       "      <th>class_</th>\n",
       "      <th>section</th>\n",
       "      <th>gender</th>\n",
       "      <th>grade</th>\n",
       "      <th>teacher_name</th>\n",
       "      <th>address</th>\n",
       "      <th>contact</th>\n",
       "      <th>fee</th>\n",
       "      <th>driver_contact</th>\n",
       "      <th>transport_fee</th>\n",
       "      <th>uniform_dues</th>\n",
       "      <th>books_dues</th>\n",
       "      <th>admission_fee</th>\n",
       "      <th>paper_money</th>\n",
       "      <th>fee_status</th>\n",
       "    </tr>\n",
       "  </thead>\n",
       "  <tbody>\n",
       "    <tr>\n",
       "      <th>0</th>\n",
       "      <td>1</td>\n",
       "      <td>alyar</td>\n",
       "      <td>2</td>\n",
       "      <td>RED</td>\n",
       "      <td>Male</td>\n",
       "      <td>A</td>\n",
       "      <td>ali</td>\n",
       "      <td>pabbi</td>\n",
       "      <td>333</td>\n",
       "      <td>2000</td>\n",
       "      <td>345</td>\n",
       "      <td>1000.0</td>\n",
       "      <td>400.0</td>\n",
       "      <td>300.0</td>\n",
       "      <td>300.0</td>\n",
       "      <td>300.0</td>\n",
       "      <td>Paid</td>\n",
       "    </tr>\n",
       "    <tr>\n",
       "      <th>1</th>\n",
       "      <td>3</td>\n",
       "      <td>arfa jani</td>\n",
       "      <td>1</td>\n",
       "      <td>YELLOW</td>\n",
       "      <td>Female</td>\n",
       "      <td>D</td>\n",
       "      <td>maryam</td>\n",
       "      <td>PABBI</td>\n",
       "      <td>335</td>\n",
       "      <td>1000</td>\n",
       "      <td>345</td>\n",
       "      <td>1200.0</td>\n",
       "      <td>200.0</td>\n",
       "      <td>1000.0</td>\n",
       "      <td>1000.0</td>\n",
       "      <td>400.0</td>\n",
       "      <td>Unpaid</td>\n",
       "    </tr>\n",
       "    <tr>\n",
       "      <th>2</th>\n",
       "      <td>4</td>\n",
       "      <td>azam</td>\n",
       "      <td>3</td>\n",
       "      <td>RED</td>\n",
       "      <td>Male</td>\n",
       "      <td>A</td>\n",
       "      <td>ali</td>\n",
       "      <td>pabbi</td>\n",
       "      <td>345</td>\n",
       "      <td>3000</td>\n",
       "      <td>3331234567</td>\n",
       "      <td>300.0</td>\n",
       "      <td>0.0</td>\n",
       "      <td>0.0</td>\n",
       "      <td>0.0</td>\n",
       "      <td>0.0</td>\n",
       "      <td>Paid</td>\n",
       "    </tr>\n",
       "  </tbody>\n",
       "</table>\n",
       "</div>"
      ],
      "text/plain": [
       "   id       name class_ section  gender grade teacher_name address  contact  \\\n",
       "0   1      alyar      2     RED    Male     A          ali   pabbi      333   \n",
       "1   3  arfa jani      1  YELLOW  Female     D       maryam   PABBI      335   \n",
       "2   4       azam      3     RED    Male     A          ali   pabbi      345   \n",
       "\n",
       "    fee  driver_contact  transport_fee  uniform_dues  books_dues  \\\n",
       "0  2000             345         1000.0         400.0       300.0   \n",
       "1  1000             345         1200.0         200.0      1000.0   \n",
       "2  3000      3331234567          300.0           0.0         0.0   \n",
       "\n",
       "   admission_fee  paper_money fee_status  \n",
       "0          300.0        300.0       Paid  \n",
       "1         1000.0        400.0     Unpaid  \n",
       "2            0.0          0.0       Paid  "
      ]
     },
     "execution_count": 10,
     "metadata": {},
     "output_type": "execute_result"
    }
   ],
   "source": [
    "pd.read_sql_query('SELECT * FROM student limit 3' , conn)"
   ]
  },
  {
   "cell_type": "code",
   "execution_count": 14,
   "metadata": {},
   "outputs": [
    {
     "data": {
      "text/html": [
       "<div>\n",
       "<style scoped>\n",
       "    .dataframe tbody tr th:only-of-type {\n",
       "        vertical-align: middle;\n",
       "    }\n",
       "\n",
       "    .dataframe tbody tr th {\n",
       "        vertical-align: top;\n",
       "    }\n",
       "\n",
       "    .dataframe thead th {\n",
       "        text-align: right;\n",
       "    }\n",
       "</style>\n",
       "<table border=\"1\" class=\"dataframe\">\n",
       "  <thead>\n",
       "    <tr style=\"text-align: right;\">\n",
       "      <th></th>\n",
       "      <th>id</th>\n",
       "      <th>name</th>\n",
       "      <th>class_</th>\n",
       "      <th>section</th>\n",
       "      <th>gender</th>\n",
       "      <th>grade</th>\n",
       "      <th>teacher_name</th>\n",
       "      <th>address</th>\n",
       "      <th>contact</th>\n",
       "      <th>fee</th>\n",
       "      <th>driver_contact</th>\n",
       "      <th>transport_fee</th>\n",
       "      <th>uniform_dues</th>\n",
       "      <th>books_dues</th>\n",
       "      <th>admission_fee</th>\n",
       "      <th>paper_money</th>\n",
       "      <th>fee_status</th>\n",
       "    </tr>\n",
       "  </thead>\n",
       "  <tbody>\n",
       "    <tr>\n",
       "      <th>0</th>\n",
       "      <td>1</td>\n",
       "      <td>alyar</td>\n",
       "      <td>2</td>\n",
       "      <td>RED</td>\n",
       "      <td>Male</td>\n",
       "      <td>A</td>\n",
       "      <td>ali</td>\n",
       "      <td>pabbi</td>\n",
       "      <td>333</td>\n",
       "      <td>2000</td>\n",
       "      <td>345</td>\n",
       "      <td>1000.0</td>\n",
       "      <td>400.0</td>\n",
       "      <td>300.0</td>\n",
       "      <td>300.0</td>\n",
       "      <td>300.0</td>\n",
       "      <td>Paid</td>\n",
       "    </tr>\n",
       "  </tbody>\n",
       "</table>\n",
       "</div>"
      ],
      "text/plain": [
       "   id   name class_ section gender grade teacher_name address  contact   fee  \\\n",
       "0   1  alyar      2     RED   Male     A          ali   pabbi      333  2000   \n",
       "\n",
       "   driver_contact  transport_fee  uniform_dues  books_dues  admission_fee  \\\n",
       "0             345         1000.0         400.0       300.0          300.0   \n",
       "\n",
       "   paper_money fee_status  \n",
       "0        300.0       Paid  "
      ]
     },
     "execution_count": 14,
     "metadata": {},
     "output_type": "execute_result"
    }
   ],
   "source": [
    "pd.read_sql_query(\"SELECT * FROM student where name ='alyar' \" , conn)"
   ]
  },
  {
   "cell_type": "code",
   "execution_count": 16,
   "metadata": {},
   "outputs": [
    {
     "data": {
      "text/html": [
       "<div>\n",
       "<style scoped>\n",
       "    .dataframe tbody tr th:only-of-type {\n",
       "        vertical-align: middle;\n",
       "    }\n",
       "\n",
       "    .dataframe tbody tr th {\n",
       "        vertical-align: top;\n",
       "    }\n",
       "\n",
       "    .dataframe thead th {\n",
       "        text-align: right;\n",
       "    }\n",
       "</style>\n",
       "<table border=\"1\" class=\"dataframe\">\n",
       "  <thead>\n",
       "    <tr style=\"text-align: right;\">\n",
       "      <th></th>\n",
       "      <th>name</th>\n",
       "      <th>section</th>\n",
       "      <th>gender</th>\n",
       "      <th>teacher_name</th>\n",
       "      <th>address</th>\n",
       "    </tr>\n",
       "  </thead>\n",
       "  <tbody>\n",
       "    <tr>\n",
       "      <th>0</th>\n",
       "      <td>alyar</td>\n",
       "      <td>RED</td>\n",
       "      <td>Male</td>\n",
       "      <td>ali</td>\n",
       "      <td>pabbi</td>\n",
       "    </tr>\n",
       "  </tbody>\n",
       "</table>\n",
       "</div>"
      ],
      "text/plain": [
       "    name section gender teacher_name address\n",
       "0  alyar     RED   Male          ali   pabbi"
      ]
     },
     "execution_count": 16,
     "metadata": {},
     "output_type": "execute_result"
    }
   ],
   "source": [
    "pd.read_sql_query(\"SELECT name , section , gender , teacher_name , address FROM student where name ='alyar' \" , conn)"
   ]
  }
 ],
 "metadata": {
  "kernelspec": {
   "display_name": "Python 3",
   "language": "python",
   "name": "python3"
  },
  "language_info": {
   "codemirror_mode": {
    "name": "ipython",
    "version": 3
   },
   "file_extension": ".py",
   "mimetype": "text/x-python",
   "name": "python",
   "nbconvert_exporter": "python",
   "pygments_lexer": "ipython3",
   "version": "3.10.11"
  }
 },
 "nbformat": 4,
 "nbformat_minor": 2
}
