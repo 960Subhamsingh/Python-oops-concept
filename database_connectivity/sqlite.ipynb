{
 "cells": [
  {
   "cell_type": "markdown",
   "metadata": {},
   "source": [
    "# SQLite Tutorial "
   ]
  },
  {
   "cell_type": "markdown",
   "metadata": {},
   "source": [
    "Documentation at: https://docs.python.org/3/library/sqlite3.html"
   ]
  },
  {
   "cell_type": "markdown",
   "metadata": {},
   "source": [
    "# Quire of SQLite\n",
    "\n",
    "* Data Types .\n",
    "* No Right or Full Outer Joins.\n",
    "* Alter Table is very useful add, Remove , column and table name.\n",
    "* Tables default to having a unique integer rowid column.\n",
    "* SQLite is a library not a service.\n",
    "* In-Memory Database Feature."
   ]
  },
  {
   "cell_type": "markdown",
   "metadata": {},
   "source": [
    "load the sqlite package "
   ]
  },
  {
   "cell_type": "code",
   "execution_count": 1,
   "metadata": {},
   "outputs": [
    {
     "name": "stdout",
     "output_type": "stream",
     "text": [
      "3.40.1\n"
     ]
    }
   ],
   "source": [
    "import sqlite3\n",
    "\n",
    "print(sqlite3.sqlite_version)"
   ]
  },
  {
   "cell_type": "markdown",
   "metadata": {},
   "source": [
    "Connect to the database.  "
   ]
  },
  {
   "cell_type": "code",
   "execution_count": 2,
   "metadata": {},
   "outputs": [],
   "source": [
    "conn = sqlite3.connect('school.db')"
   ]
  },
  {
   "cell_type": "code",
   "execution_count": 3,
   "metadata": {},
   "outputs": [
    {
     "data": {
      "text/plain": [
       "<sqlite3.Cursor at 0x1eb2c64af40>"
      ]
     },
     "execution_count": 3,
     "metadata": {},
     "output_type": "execute_result"
    }
   ],
   "source": [
    "cur = conn.cursor()\n",
    "cur.execute('select * from student')"
   ]
  },
  {
   "cell_type": "code",
   "execution_count": 4,
   "metadata": {},
   "outputs": [
    {
     "data": {
      "text/plain": [
       "(1,\n",
       " 'alyar',\n",
       " '2',\n",
       " 'RED',\n",
       " 'Male',\n",
       " 'A',\n",
       " 'ali',\n",
       " 'pabbi',\n",
       " 333,\n",
       " 2000,\n",
       " 345,\n",
       " 1000.0,\n",
       " 400.0,\n",
       " 300.0,\n",
       " 300.0,\n",
       " 300.0,\n",
       " 'Paid')"
      ]
     },
     "execution_count": 4,
     "metadata": {},
     "output_type": "execute_result"
    }
   ],
   "source": [
    "cur.fetchone()"
   ]
  },
  {
   "cell_type": "code",
   "execution_count": 5,
   "metadata": {},
   "outputs": [
    {
     "name": "stdout",
     "output_type": "stream",
     "text": [
      "(3, 'arfa jani', '1', 'YELLOW', 'Female', 'D', 'maryam', 'PABBI', 335, 1000, 345, 1200.0, 200.0, 1000.0, 1000.0, 400.0, 'Unpaid')\n"
     ]
    }
   ],
   "source": [
    "print(cur.fetchone())"
   ]
  },
  {
   "cell_type": "code",
   "execution_count": 7,
   "metadata": {},
   "outputs": [
    {
     "name": "stdout",
     "output_type": "stream",
     "text": [
      "(1, 'alyar', '2', 'RED', 'Male', 'A', 'ali', 'pabbi', 333, 2000, 345, 1000.0, 400.0, 300.0, 300.0, 300.0, 'Paid')\n",
      "(3, 'arfa jani', '1', 'YELLOW', 'Female', 'D', 'maryam', 'PABBI', 335, 1000, 345, 1200.0, 200.0, 1000.0, 1000.0, 400.0, 'Unpaid')\n",
      "(4, 'azam', '3', 'RED', 'Male', 'A', 'ali', 'pabbi', 345, 3000, 3331234567, 300.0, 0.0, 0.0, 0.0, 0.0, 'Paid')\n",
      "(5, 'bacha', '5', 'RED', 'Male', 'A', 'tariq', 'pabbi', 123456789, 5000, 3331234567, 1000.0, 1000.0, 3000.0, 3000.0, 1000.0, 'Paid')\n",
      "(6, 'ali khan', '1', 'RED', 'Male', 'A', 'tariq', 'pabbi', 1234567890, 1000, 3331234567, 1000.0, 500.0, 1000.0, 1000.0, 200.0, 'Paid')\n",
      "(7, 'hamza', '4', 'RED', 'Male', 'A', 'tatiq', 'pabbi', 12121212, 2000, 3331234567, 1000.0, 2000.0, 2000.0, 1000.0, 1000.0, 'Paid')\n",
      "(8, 'maryam', '3', 'BLUE', 'Female', 'B', 'tariq', 'pabbi', 3331234567, 1000, 3331234567, 0.0, 0.0, 0.0, 0.0, 0.0, 'Unpaid')\n",
      "(9, 'alyar Tariq', '1', 'BLUE', 'Male', 'B', 'tariq', 'usman abad', 3339139164, 1000, 3331234567, 500.0, 300.0, 200.0, 1000.0, 200.0, 'Unpaid')\n",
      "(10, 'nimra', '3', 'GREEN', 'Female', 'C', 'maryam', 'pabbi', 331, 2000, 3331234567, 200.0, 0.0, 200.0, 1000.0, 200.0, 'Unpaid')\n"
     ]
    }
   ],
   "source": [
    "for row in cur.execute('SELECT * FROM student'):\n",
    "    print(row)"
   ]
  },
  {
   "cell_type": "code",
   "execution_count": 8,
   "metadata": {},
   "outputs": [
    {
     "name": "stdout",
     "output_type": "stream",
     "text": [
      "(1, 'alyar', '2', 'RED', 'Male', 'A', 'ali', 'pabbi', 333, 2000, 345, 1000.0, 400.0, 300.0, 300.0, 300.0, 'Paid')\n",
      "(3, 'arfa jani', '1', 'YELLOW', 'Female', 'D', 'maryam', 'PABBI', 335, 1000, 345, 1200.0, 200.0, 1000.0, 1000.0, 400.0, 'Unpaid')\n",
      "(4, 'azam', '3', 'RED', 'Male', 'A', 'ali', 'pabbi', 345, 3000, 3331234567, 300.0, 0.0, 0.0, 0.0, 0.0, 'Paid')\n"
     ]
    }
   ],
   "source": [
    "for row in cur.execute('SELECT * FROM student limit 3'):\n",
    "    print(row)"
   ]
  },
  {
   "cell_type": "code",
   "execution_count": 9,
   "metadata": {},
   "outputs": [],
   "source": [
    "import pandas as pd"
   ]
  },
  {
   "cell_type": "code",
   "execution_count": 10,
   "metadata": {},
   "outputs": [
    {
     "data": {
      "text/html": [
       "<div>\n",
       "<style scoped>\n",
       "    .dataframe tbody tr th:only-of-type {\n",
       "        vertical-align: middle;\n",
       "    }\n",
       "\n",
       "    .dataframe tbody tr th {\n",
       "        vertical-align: top;\n",
       "    }\n",
       "\n",
       "    .dataframe thead th {\n",
       "        text-align: right;\n",
       "    }\n",
       "</style>\n",
       "<table border=\"1\" class=\"dataframe\">\n",
       "  <thead>\n",
       "    <tr style=\"text-align: right;\">\n",
       "      <th></th>\n",
       "      <th>id</th>\n",
       "      <th>name</th>\n",
       "      <th>class_</th>\n",
       "      <th>section</th>\n",
       "      <th>gender</th>\n",
       "      <th>grade</th>\n",
       "      <th>teacher_name</th>\n",
       "      <th>address</th>\n",
       "      <th>contact</th>\n",
       "      <th>fee</th>\n",
       "      <th>driver_contact</th>\n",
       "      <th>transport_fee</th>\n",
       "      <th>uniform_dues</th>\n",
       "      <th>books_dues</th>\n",
       "      <th>admission_fee</th>\n",
       "      <th>paper_money</th>\n",
       "      <th>fee_status</th>\n",
       "    </tr>\n",
       "  </thead>\n",
       "  <tbody>\n",
       "    <tr>\n",
       "      <th>0</th>\n",
       "      <td>1</td>\n",
       "      <td>alyar</td>\n",
       "      <td>2</td>\n",
       "      <td>RED</td>\n",
       "      <td>Male</td>\n",
       "      <td>A</td>\n",
       "      <td>ali</td>\n",
       "      <td>pabbi</td>\n",
       "      <td>333</td>\n",
       "      <td>2000</td>\n",
       "      <td>345</td>\n",
       "      <td>1000.0</td>\n",
       "      <td>400.0</td>\n",
       "      <td>300.0</td>\n",
       "      <td>300.0</td>\n",
       "      <td>300.0</td>\n",
       "      <td>Paid</td>\n",
       "    </tr>\n",
       "    <tr>\n",
       "      <th>1</th>\n",
       "      <td>3</td>\n",
       "      <td>arfa jani</td>\n",
       "      <td>1</td>\n",
       "      <td>YELLOW</td>\n",
       "      <td>Female</td>\n",
       "      <td>D</td>\n",
       "      <td>maryam</td>\n",
       "      <td>PABBI</td>\n",
       "      <td>335</td>\n",
       "      <td>1000</td>\n",
       "      <td>345</td>\n",
       "      <td>1200.0</td>\n",
       "      <td>200.0</td>\n",
       "      <td>1000.0</td>\n",
       "      <td>1000.0</td>\n",
       "      <td>400.0</td>\n",
       "      <td>Unpaid</td>\n",
       "    </tr>\n",
       "    <tr>\n",
       "      <th>2</th>\n",
       "      <td>4</td>\n",
       "      <td>azam</td>\n",
       "      <td>3</td>\n",
       "      <td>RED</td>\n",
       "      <td>Male</td>\n",
       "      <td>A</td>\n",
       "      <td>ali</td>\n",
       "      <td>pabbi</td>\n",
       "      <td>345</td>\n",
       "      <td>3000</td>\n",
       "      <td>3331234567</td>\n",
       "      <td>300.0</td>\n",
       "      <td>0.0</td>\n",
       "      <td>0.0</td>\n",
       "      <td>0.0</td>\n",
       "      <td>0.0</td>\n",
       "      <td>Paid</td>\n",
       "    </tr>\n",
       "  </tbody>\n",
       "</table>\n",
       "</div>"
      ],
      "text/plain": [
       "   id       name class_ section  gender grade teacher_name address  contact  \\\n",
       "0   1      alyar      2     RED    Male     A          ali   pabbi      333   \n",
       "1   3  arfa jani      1  YELLOW  Female     D       maryam   PABBI      335   \n",
       "2   4       azam      3     RED    Male     A          ali   pabbi      345   \n",
       "\n",
       "    fee  driver_contact  transport_fee  uniform_dues  books_dues  \\\n",
       "0  2000             345         1000.0         400.0       300.0   \n",
       "1  1000             345         1200.0         200.0      1000.0   \n",
       "2  3000      3331234567          300.0           0.0         0.0   \n",
       "\n",
       "   admission_fee  paper_money fee_status  \n",
       "0          300.0        300.0       Paid  \n",
       "1         1000.0        400.0     Unpaid  \n",
       "2            0.0          0.0       Paid  "
      ]
     },
     "execution_count": 10,
     "metadata": {},
     "output_type": "execute_result"
    }
   ],
   "source": [
    "pd.read_sql_query('SELECT * FROM student limit 3' , conn)"
   ]
  },
  {
   "cell_type": "code",
   "execution_count": 14,
   "metadata": {},
   "outputs": [
    {
     "data": {
      "text/html": [
       "<div>\n",
       "<style scoped>\n",
       "    .dataframe tbody tr th:only-of-type {\n",
       "        vertical-align: middle;\n",
       "    }\n",
       "\n",
       "    .dataframe tbody tr th {\n",
       "        vertical-align: top;\n",
       "    }\n",
       "\n",
       "    .dataframe thead th {\n",
       "        text-align: right;\n",
       "    }\n",
       "</style>\n",
       "<table border=\"1\" class=\"dataframe\">\n",
       "  <thead>\n",
       "    <tr style=\"text-align: right;\">\n",
       "      <th></th>\n",
       "      <th>id</th>\n",
       "      <th>name</th>\n",
       "      <th>class_</th>\n",
       "      <th>section</th>\n",
       "      <th>gender</th>\n",
       "      <th>grade</th>\n",
       "      <th>teacher_name</th>\n",
       "      <th>address</th>\n",
       "      <th>contact</th>\n",
       "      <th>fee</th>\n",
       "      <th>driver_contact</th>\n",
       "      <th>transport_fee</th>\n",
       "      <th>uniform_dues</th>\n",
       "      <th>books_dues</th>\n",
       "      <th>admission_fee</th>\n",
       "      <th>paper_money</th>\n",
       "      <th>fee_status</th>\n",
       "    </tr>\n",
       "  </thead>\n",
       "  <tbody>\n",
       "    <tr>\n",
       "      <th>0</th>\n",
       "      <td>1</td>\n",
       "      <td>alyar</td>\n",
       "      <td>2</td>\n",
       "      <td>RED</td>\n",
       "      <td>Male</td>\n",
       "      <td>A</td>\n",
       "      <td>ali</td>\n",
       "      <td>pabbi</td>\n",
       "      <td>333</td>\n",
       "      <td>2000</td>\n",
       "      <td>345</td>\n",
       "      <td>1000.0</td>\n",
       "      <td>400.0</td>\n",
       "      <td>300.0</td>\n",
       "      <td>300.0</td>\n",
       "      <td>300.0</td>\n",
       "      <td>Paid</td>\n",
       "    </tr>\n",
       "  </tbody>\n",
       "</table>\n",
       "</div>"
      ],
      "text/plain": [
       "   id   name class_ section gender grade teacher_name address  contact   fee  \\\n",
       "0   1  alyar      2     RED   Male     A          ali   pabbi      333  2000   \n",
       "\n",
       "   driver_contact  transport_fee  uniform_dues  books_dues  admission_fee  \\\n",
       "0             345         1000.0         400.0       300.0          300.0   \n",
       "\n",
       "   paper_money fee_status  \n",
       "0        300.0       Paid  "
      ]
     },
     "execution_count": 14,
     "metadata": {},
     "output_type": "execute_result"
    }
   ],
   "source": [
    "pd.read_sql_query(\"SELECT * FROM student where name ='alyar' \" , conn)"
   ]
  },
  {
   "cell_type": "code",
   "execution_count": 16,
   "metadata": {},
   "outputs": [
    {
     "data": {
      "text/html": [
       "<div>\n",
       "<style scoped>\n",
       "    .dataframe tbody tr th:only-of-type {\n",
       "        vertical-align: middle;\n",
       "    }\n",
       "\n",
       "    .dataframe tbody tr th {\n",
       "        vertical-align: top;\n",
       "    }\n",
       "\n",
       "    .dataframe thead th {\n",
       "        text-align: right;\n",
       "    }\n",
       "</style>\n",
       "<table border=\"1\" class=\"dataframe\">\n",
       "  <thead>\n",
       "    <tr style=\"text-align: right;\">\n",
       "      <th></th>\n",
       "      <th>name</th>\n",
       "      <th>section</th>\n",
       "      <th>gender</th>\n",
       "      <th>teacher_name</th>\n",
       "      <th>address</th>\n",
       "    </tr>\n",
       "  </thead>\n",
       "  <tbody>\n",
       "    <tr>\n",
       "      <th>0</th>\n",
       "      <td>alyar</td>\n",
       "      <td>RED</td>\n",
       "      <td>Male</td>\n",
       "      <td>ali</td>\n",
       "      <td>pabbi</td>\n",
       "    </tr>\n",
       "  </tbody>\n",
       "</table>\n",
       "</div>"
      ],
      "text/plain": [
       "    name section gender teacher_name address\n",
       "0  alyar     RED   Male          ali   pabbi"
      ]
     },
     "execution_count": 16,
     "metadata": {},
     "output_type": "execute_result"
    }
   ],
   "source": [
    "pd.read_sql_query(\"SELECT name , section , gender , teacher_name , address FROM student where name ='alyar' \" , conn)"
   ]
  },
  {
   "cell_type": "markdown",
   "metadata": {},
   "source": [
    "##        pandasql library"
   ]
  },
  {
   "cell_type": "code",
   "execution_count": 147,
   "metadata": {},
   "outputs": [],
   "source": [
    "import seaborn as sns"
   ]
  },
  {
   "cell_type": "code",
   "execution_count": 75,
   "metadata": {},
   "outputs": [],
   "source": [
    "from pandasql import sqldf\n",
    "\n",
    "def pysqldf(q):\n",
    "    \"\"\"this function eliminates the need to include locals/globals all the time\"\"\"\n",
    "    return sqldf('school', globals())"
   ]
  },
  {
   "cell_type": "code",
   "execution_count": 173,
   "metadata": {},
   "outputs": [
    {
     "data": {
      "text/html": [
       "<div>\n",
       "<style scoped>\n",
       "    .dataframe tbody tr th:only-of-type {\n",
       "        vertical-align: middle;\n",
       "    }\n",
       "\n",
       "    .dataframe tbody tr th {\n",
       "        vertical-align: top;\n",
       "    }\n",
       "\n",
       "    .dataframe thead th {\n",
       "        text-align: right;\n",
       "    }\n",
       "</style>\n",
       "<table border=\"1\" class=\"dataframe\">\n",
       "  <thead>\n",
       "    <tr style=\"text-align: right;\">\n",
       "      <th></th>\n",
       "      <th>species</th>\n",
       "      <th>island</th>\n",
       "      <th>bill_length_mm</th>\n",
       "      <th>bill_depth_mm</th>\n",
       "      <th>flipper_length_mm</th>\n",
       "      <th>body_mass_g</th>\n",
       "      <th>sex</th>\n",
       "    </tr>\n",
       "  </thead>\n",
       "  <tbody>\n",
       "    <tr>\n",
       "      <th>0</th>\n",
       "      <td>Adelie</td>\n",
       "      <td>Torgersen</td>\n",
       "      <td>39.1</td>\n",
       "      <td>18.7</td>\n",
       "      <td>181.0</td>\n",
       "      <td>3750.0</td>\n",
       "      <td>Male</td>\n",
       "    </tr>\n",
       "    <tr>\n",
       "      <th>1</th>\n",
       "      <td>Adelie</td>\n",
       "      <td>Torgersen</td>\n",
       "      <td>39.5</td>\n",
       "      <td>17.4</td>\n",
       "      <td>186.0</td>\n",
       "      <td>3800.0</td>\n",
       "      <td>Female</td>\n",
       "    </tr>\n",
       "    <tr>\n",
       "      <th>2</th>\n",
       "      <td>Adelie</td>\n",
       "      <td>Torgersen</td>\n",
       "      <td>40.3</td>\n",
       "      <td>18.0</td>\n",
       "      <td>195.0</td>\n",
       "      <td>3250.0</td>\n",
       "      <td>Female</td>\n",
       "    </tr>\n",
       "    <tr>\n",
       "      <th>3</th>\n",
       "      <td>Adelie</td>\n",
       "      <td>Torgersen</td>\n",
       "      <td>NaN</td>\n",
       "      <td>NaN</td>\n",
       "      <td>NaN</td>\n",
       "      <td>NaN</td>\n",
       "      <td>NaN</td>\n",
       "    </tr>\n",
       "    <tr>\n",
       "      <th>4</th>\n",
       "      <td>Adelie</td>\n",
       "      <td>Torgersen</td>\n",
       "      <td>36.7</td>\n",
       "      <td>19.3</td>\n",
       "      <td>193.0</td>\n",
       "      <td>3450.0</td>\n",
       "      <td>Female</td>\n",
       "    </tr>\n",
       "  </tbody>\n",
       "</table>\n",
       "</div>"
      ],
      "text/plain": [
       "  species     island  bill_length_mm  bill_depth_mm  flipper_length_mm  \\\n",
       "0  Adelie  Torgersen            39.1           18.7              181.0   \n",
       "1  Adelie  Torgersen            39.5           17.4              186.0   \n",
       "2  Adelie  Torgersen            40.3           18.0              195.0   \n",
       "3  Adelie  Torgersen             NaN            NaN                NaN   \n",
       "4  Adelie  Torgersen            36.7           19.3              193.0   \n",
       "\n",
       "   body_mass_g     sex  \n",
       "0       3750.0    Male  \n",
       "1       3800.0  Female  \n",
       "2       3250.0  Female  \n",
       "3          NaN     NaN  \n",
       "4       3450.0  Female  "
      ]
     },
     "execution_count": 173,
     "metadata": {},
     "output_type": "execute_result"
    }
   ],
   "source": [
    "penguins = sns.load_dataset('penguins')\n",
    "penguins.head()"
   ]
  },
  {
   "cell_type": "markdown",
   "metadata": {},
   "source": [
    "sqldf function from the pandasql library to  <br>\n",
    "execute a SQL query on a pandas DataFrame called \"penguins\"."
   ]
  },
  {
   "cell_type": "code",
   "execution_count": 151,
   "metadata": {},
   "outputs": [
    {
     "data": {
      "text/html": [
       "<div>\n",
       "<style scoped>\n",
       "    .dataframe tbody tr th:only-of-type {\n",
       "        vertical-align: middle;\n",
       "    }\n",
       "\n",
       "    .dataframe tbody tr th {\n",
       "        vertical-align: top;\n",
       "    }\n",
       "\n",
       "    .dataframe thead th {\n",
       "        text-align: right;\n",
       "    }\n",
       "</style>\n",
       "<table border=\"1\" class=\"dataframe\">\n",
       "  <thead>\n",
       "    <tr style=\"text-align: right;\">\n",
       "      <th></th>\n",
       "      <th>species</th>\n",
       "      <th>island</th>\n",
       "    </tr>\n",
       "  </thead>\n",
       "  <tbody>\n",
       "    <tr>\n",
       "      <th>0</th>\n",
       "      <td>Adelie</td>\n",
       "      <td>Torgersen</td>\n",
       "    </tr>\n",
       "    <tr>\n",
       "      <th>1</th>\n",
       "      <td>Adelie</td>\n",
       "      <td>Torgersen</td>\n",
       "    </tr>\n",
       "    <tr>\n",
       "      <th>2</th>\n",
       "      <td>Adelie</td>\n",
       "      <td>Torgersen</td>\n",
       "    </tr>\n",
       "    <tr>\n",
       "      <th>3</th>\n",
       "      <td>Adelie</td>\n",
       "      <td>Torgersen</td>\n",
       "    </tr>\n",
       "    <tr>\n",
       "      <th>4</th>\n",
       "      <td>Adelie</td>\n",
       "      <td>Torgersen</td>\n",
       "    </tr>\n",
       "  </tbody>\n",
       "</table>\n",
       "</div>"
      ],
      "text/plain": [
       "  species     island\n",
       "0  Adelie  Torgersen\n",
       "1  Adelie  Torgersen\n",
       "2  Adelie  Torgersen\n",
       "3  Adelie  Torgersen\n",
       "4  Adelie  Torgersen"
      ]
     },
     "execution_count": 151,
     "metadata": {},
     "output_type": "execute_result"
    }
   ],
   "source": [
    "sqldf('''SELECT species, island \n",
    "FROM penguins \n",
    "LIMIT 5''')"
   ]
  },
  {
   "cell_type": "markdown",
   "metadata": {},
   "source": [
    "The type() function is then used to determine the data type of the output of the sqldf function. <br>\n",
    "• The output is a pandas DataFrame, so the type() function will return ."
   ]
  },
  {
   "cell_type": "code",
   "execution_count": 150,
   "metadata": {},
   "outputs": [
    {
     "data": {
      "text/plain": [
       "pandas.core.frame.DataFrame"
      ]
     },
     "execution_count": 150,
     "metadata": {},
     "output_type": "execute_result"
    }
   ],
   "source": [
    "type(sqldf('''SELECT species, island \n",
    "                      FROM penguins \n",
    "                     LIMIT 5'''))"
   ]
  },
  {
   "cell_type": "markdown",
   "metadata": {},
   "source": [
    "Display unique rows in pandas and sqlite"
   ]
  },
  {
   "cell_type": "code",
   "execution_count": 153,
   "metadata": {},
   "outputs": [
    {
     "data": {
      "text/plain": [
       "array(['Adelie', 'Chinstrap', 'Gentoo'], dtype=object)"
      ]
     },
     "execution_count": 153,
     "metadata": {},
     "output_type": "execute_result"
    }
   ],
   "source": [
    "penguins['species'].unique()"
   ]
  },
  {
   "cell_type": "code",
   "execution_count": 156,
   "metadata": {},
   "outputs": [
    {
     "data": {
      "text/html": [
       "<div>\n",
       "<style scoped>\n",
       "    .dataframe tbody tr th:only-of-type {\n",
       "        vertical-align: middle;\n",
       "    }\n",
       "\n",
       "    .dataframe tbody tr th {\n",
       "        vertical-align: top;\n",
       "    }\n",
       "\n",
       "    .dataframe thead th {\n",
       "        text-align: right;\n",
       "    }\n",
       "</style>\n",
       "<table border=\"1\" class=\"dataframe\">\n",
       "  <thead>\n",
       "    <tr style=\"text-align: right;\">\n",
       "      <th></th>\n",
       "      <th>species</th>\n",
       "      <th>island</th>\n",
       "    </tr>\n",
       "  </thead>\n",
       "  <tbody>\n",
       "    <tr>\n",
       "      <th>0</th>\n",
       "      <td>Adelie</td>\n",
       "      <td>Torgersen</td>\n",
       "    </tr>\n",
       "    <tr>\n",
       "      <th>1</th>\n",
       "      <td>Adelie</td>\n",
       "      <td>Biscoe</td>\n",
       "    </tr>\n",
       "    <tr>\n",
       "      <th>2</th>\n",
       "      <td>Adelie</td>\n",
       "      <td>Dream</td>\n",
       "    </tr>\n",
       "    <tr>\n",
       "      <th>3</th>\n",
       "      <td>Chinstrap</td>\n",
       "      <td>Dream</td>\n",
       "    </tr>\n",
       "    <tr>\n",
       "      <th>4</th>\n",
       "      <td>Gentoo</td>\n",
       "      <td>Biscoe</td>\n",
       "    </tr>\n",
       "  </tbody>\n",
       "</table>\n",
       "</div>"
      ],
      "text/plain": [
       "     species     island\n",
       "0     Adelie  Torgersen\n",
       "1     Adelie     Biscoe\n",
       "2     Adelie      Dream\n",
       "3  Chinstrap      Dream\n",
       "4     Gentoo     Biscoe"
      ]
     },
     "execution_count": 156,
     "metadata": {},
     "output_type": "execute_result"
    }
   ],
   "source": [
    "sqldf('''SELECT Distinct species, island \n",
    "                      FROM penguins \n",
    "                     ''')"
   ]
  },
  {
   "cell_type": "markdown",
   "metadata": {},
   "source": [
    "sorting the data"
   ]
  },
  {
   "cell_type": "code",
   "execution_count": 158,
   "metadata": {},
   "outputs": [
    {
     "data": {
      "text/html": [
       "<div>\n",
       "<style scoped>\n",
       "    .dataframe tbody tr th:only-of-type {\n",
       "        vertical-align: middle;\n",
       "    }\n",
       "\n",
       "    .dataframe tbody tr th {\n",
       "        vertical-align: top;\n",
       "    }\n",
       "\n",
       "    .dataframe thead th {\n",
       "        text-align: right;\n",
       "    }\n",
       "</style>\n",
       "<table border=\"1\" class=\"dataframe\">\n",
       "  <thead>\n",
       "    <tr style=\"text-align: right;\">\n",
       "      <th></th>\n",
       "      <th>body_mass_g</th>\n",
       "    </tr>\n",
       "  </thead>\n",
       "  <tbody>\n",
       "    <tr>\n",
       "      <th>0</th>\n",
       "      <td>6300.0</td>\n",
       "    </tr>\n",
       "    <tr>\n",
       "      <th>1</th>\n",
       "      <td>6050.0</td>\n",
       "    </tr>\n",
       "    <tr>\n",
       "      <th>2</th>\n",
       "      <td>6000.0</td>\n",
       "    </tr>\n",
       "    <tr>\n",
       "      <th>3</th>\n",
       "      <td>6000.0</td>\n",
       "    </tr>\n",
       "    <tr>\n",
       "      <th>4</th>\n",
       "      <td>5950.0</td>\n",
       "    </tr>\n",
       "  </tbody>\n",
       "</table>\n",
       "</div>"
      ],
      "text/plain": [
       "   body_mass_g\n",
       "0       6300.0\n",
       "1       6050.0\n",
       "2       6000.0\n",
       "3       6000.0\n",
       "4       5950.0"
      ]
     },
     "execution_count": 158,
     "metadata": {},
     "output_type": "execute_result"
    }
   ],
   "source": [
    "sqldf('''SELECT body_mass_g \n",
    "                 FROM penguins \n",
    "                ORDER BY body_mass_g DESC \n",
    "                LIMIT 5''')"
   ]
  },
  {
   "cell_type": "code",
   "execution_count": 160,
   "metadata": {},
   "outputs": [
    {
     "data": {
      "text/plain": [
       "0    6300.0\n",
       "1    6050.0\n",
       "2    6000.0\n",
       "3    6000.0\n",
       "4    5950.0\n",
       "Name: body_mass_g, dtype: float64"
      ]
     },
     "execution_count": 160,
     "metadata": {},
     "output_type": "execute_result"
    }
   ],
   "source": [
    "penguins['body_mass_g'].sort_values(ascending=False, \n",
    "ignore_index=True).head()"
   ]
  },
  {
   "cell_type": "markdown",
   "metadata": {},
   "source": [
    "filtering data"
   ]
  },
  {
   "cell_type": "code",
   "execution_count": 161,
   "metadata": {},
   "outputs": [
    {
     "data": {
      "text/html": [
       "<div>\n",
       "<style scoped>\n",
       "    .dataframe tbody tr th:only-of-type {\n",
       "        vertical-align: middle;\n",
       "    }\n",
       "\n",
       "    .dataframe tbody tr th {\n",
       "        vertical-align: top;\n",
       "    }\n",
       "\n",
       "    .dataframe thead th {\n",
       "        text-align: right;\n",
       "    }\n",
       "</style>\n",
       "<table border=\"1\" class=\"dataframe\">\n",
       "  <thead>\n",
       "    <tr style=\"text-align: right;\">\n",
       "      <th></th>\n",
       "      <th>species</th>\n",
       "    </tr>\n",
       "  </thead>\n",
       "  <tbody>\n",
       "    <tr>\n",
       "      <th>0</th>\n",
       "      <td>Chinstrap</td>\n",
       "    </tr>\n",
       "    <tr>\n",
       "      <th>1</th>\n",
       "      <td>Gentoo</td>\n",
       "    </tr>\n",
       "  </tbody>\n",
       "</table>\n",
       "</div>"
      ],
      "text/plain": [
       "     species\n",
       "0  Chinstrap\n",
       "1     Gentoo"
      ]
     },
     "execution_count": 161,
     "metadata": {},
     "output_type": "execute_result"
    }
   ],
   "source": [
    "sqldf('''SELECT DISTINCT species\n",
    "                 FROM penguins \n",
    "                WHERE sex = 'Male' \n",
    "                  AND flipper_length_mm > 210''')"
   ]
  },
  {
   "cell_type": "code",
   "execution_count": 174,
   "metadata": {},
   "outputs": [
    {
     "data": {
      "text/plain": [
       "array(['Chinstrap', 'Gentoo'], dtype=object)"
      ]
     },
     "execution_count": 174,
     "metadata": {},
     "output_type": "execute_result"
    }
   ],
   "source": [
    "penguins[(penguins['sex'] == 'Male') & (penguins['flipper_length_mm'] >210)]['species'].unique()"
   ]
  },
  {
   "cell_type": "markdown",
   "metadata": {},
   "source": [
    "Grouping and aggregating data "
   ]
  },
  {
   "cell_type": "code",
   "execution_count": 175,
   "metadata": {},
   "outputs": [
    {
     "data": {
      "text/html": [
       "<div>\n",
       "<style scoped>\n",
       "    .dataframe tbody tr th:only-of-type {\n",
       "        vertical-align: middle;\n",
       "    }\n",
       "\n",
       "    .dataframe tbody tr th {\n",
       "        vertical-align: top;\n",
       "    }\n",
       "\n",
       "    .dataframe thead th {\n",
       "        text-align: right;\n",
       "    }\n",
       "</style>\n",
       "<table border=\"1\" class=\"dataframe\">\n",
       "  <thead>\n",
       "    <tr style=\"text-align: right;\">\n",
       "      <th></th>\n",
       "      <th>species</th>\n",
       "      <th>MAX(bill_length_mm)</th>\n",
       "    </tr>\n",
       "  </thead>\n",
       "  <tbody>\n",
       "    <tr>\n",
       "      <th>0</th>\n",
       "      <td>Adelie</td>\n",
       "      <td>46.0</td>\n",
       "    </tr>\n",
       "    <tr>\n",
       "      <th>1</th>\n",
       "      <td>Chinstrap</td>\n",
       "      <td>58.0</td>\n",
       "    </tr>\n",
       "    <tr>\n",
       "      <th>2</th>\n",
       "      <td>Gentoo</td>\n",
       "      <td>59.6</td>\n",
       "    </tr>\n",
       "  </tbody>\n",
       "</table>\n",
       "</div>"
      ],
      "text/plain": [
       "     species  MAX(bill_length_mm)\n",
       "0     Adelie                 46.0\n",
       "1  Chinstrap                 58.0\n",
       "2     Gentoo                 59.6"
      ]
     },
     "execution_count": 175,
     "metadata": {},
     "output_type": "execute_result"
    }
   ],
   "source": [
    "sqldf('''SELECT species, MAX(bill_length_mm)\n",
    "                 FROM penguins \n",
    "                GROUP BY species''')"
   ]
  },
  {
   "cell_type": "code",
   "execution_count": 183,
   "metadata": {},
   "outputs": [
    {
     "data": {
      "text/html": [
       "<div>\n",
       "<style scoped>\n",
       "    .dataframe tbody tr th:only-of-type {\n",
       "        vertical-align: middle;\n",
       "    }\n",
       "\n",
       "    .dataframe tbody tr th {\n",
       "        vertical-align: top;\n",
       "    }\n",
       "\n",
       "    .dataframe thead th {\n",
       "        text-align: right;\n",
       "    }\n",
       "</style>\n",
       "<table border=\"1\" class=\"dataframe\">\n",
       "  <thead>\n",
       "    <tr style=\"text-align: right;\">\n",
       "      <th></th>\n",
       "      <th>species</th>\n",
       "      <th>bill_length_mm</th>\n",
       "    </tr>\n",
       "  </thead>\n",
       "  <tbody>\n",
       "    <tr>\n",
       "      <th>0</th>\n",
       "      <td>Adelie</td>\n",
       "      <td>46.0</td>\n",
       "    </tr>\n",
       "    <tr>\n",
       "      <th>1</th>\n",
       "      <td>Chinstrap</td>\n",
       "      <td>58.0</td>\n",
       "    </tr>\n",
       "    <tr>\n",
       "      <th>2</th>\n",
       "      <td>Gentoo</td>\n",
       "      <td>59.6</td>\n",
       "    </tr>\n",
       "  </tbody>\n",
       "</table>\n",
       "</div>"
      ],
      "text/plain": [
       "     species  bill_length_mm\n",
       "0     Adelie            46.0\n",
       "1  Chinstrap            58.0\n",
       "2     Gentoo            59.6"
      ]
     },
     "execution_count": 183,
     "metadata": {},
     "output_type": "execute_result"
    }
   ],
   "source": [
    "penguins[['species','bill_length_mm']].groupby('species',as_index=False).max()"
   ]
  },
  {
   "cell_type": "markdown",
   "metadata": {},
   "source": [
    "mathematical operations with pandasql"
   ]
  },
  {
   "cell_type": "code",
   "execution_count": 184,
   "metadata": {},
   "outputs": [
    {
     "data": {
      "text/html": [
       "<div>\n",
       "<style scoped>\n",
       "    .dataframe tbody tr th:only-of-type {\n",
       "        vertical-align: middle;\n",
       "    }\n",
       "\n",
       "    .dataframe tbody tr th {\n",
       "        vertical-align: top;\n",
       "    }\n",
       "\n",
       "    .dataframe thead th {\n",
       "        text-align: right;\n",
       "    }\n",
       "</style>\n",
       "<table border=\"1\" class=\"dataframe\">\n",
       "  <thead>\n",
       "    <tr style=\"text-align: right;\">\n",
       "      <th></th>\n",
       "      <th>length_to_depth</th>\n",
       "    </tr>\n",
       "  </thead>\n",
       "  <tbody>\n",
       "    <tr>\n",
       "      <th>0</th>\n",
       "      <td>3.612676</td>\n",
       "    </tr>\n",
       "    <tr>\n",
       "      <th>1</th>\n",
       "      <td>3.510490</td>\n",
       "    </tr>\n",
       "    <tr>\n",
       "      <th>2</th>\n",
       "      <td>3.505882</td>\n",
       "    </tr>\n",
       "    <tr>\n",
       "      <th>3</th>\n",
       "      <td>3.492424</td>\n",
       "    </tr>\n",
       "    <tr>\n",
       "      <th>4</th>\n",
       "      <td>3.458599</td>\n",
       "    </tr>\n",
       "  </tbody>\n",
       "</table>\n",
       "</div>"
      ],
      "text/plain": [
       "   length_to_depth\n",
       "0         3.612676\n",
       "1         3.510490\n",
       "2         3.505882\n",
       "3         3.492424\n",
       "4         3.458599"
      ]
     },
     "execution_count": 184,
     "metadata": {},
     "output_type": "execute_result"
    }
   ],
   "source": [
    "sqldf('''SELECT bill_length_mm / bill_depth_mm AS length_to_depth\n",
    "                 FROM penguins\n",
    "                ORDER BY length_to_depth DESC\n",
    "                LIMIT 5''')"
   ]
  },
  {
   "cell_type": "code",
   "execution_count": 193,
   "metadata": {},
   "outputs": [
    {
     "data": {
      "text/plain": [
       "0    3.612676\n",
       "1    3.510490\n",
       "2    3.505882\n",
       "3    3.492424\n",
       "4    3.458599\n",
       "Name: ength_to_depth, dtype: float64"
      ]
     },
     "execution_count": 193,
     "metadata": {},
     "output_type": "execute_result"
    }
   ],
   "source": [
    "penguins['ength_to_depth']=penguins['bill_length_mm'] / penguins['bill_depth_mm']\n",
    "penguins['ength_to_depth'].sort_values(ascending=False , ignore_index=True).head()"
   ]
  },
  {
   "cell_type": "code",
   "execution_count": 197,
   "metadata": {},
   "outputs": [
    {
     "data": {
      "text/html": [
       "<div>\n",
       "<style scoped>\n",
       "    .dataframe tbody tr th:only-of-type {\n",
       "        vertical-align: middle;\n",
       "    }\n",
       "\n",
       "    .dataframe tbody tr th {\n",
       "        vertical-align: top;\n",
       "    }\n",
       "\n",
       "    .dataframe thead th {\n",
       "        text-align: right;\n",
       "    }\n",
       "</style>\n",
       "<table border=\"1\" class=\"dataframe\">\n",
       "  <thead>\n",
       "    <tr style=\"text-align: right;\">\n",
       "      <th></th>\n",
       "      <th>DateKey</th>\n",
       "      <th>FullDateAlternateKey</th>\n",
       "      <th>DayNumberOfWeek</th>\n",
       "      <th>EnglishDayNameOfWeek</th>\n",
       "      <th>SpanishDayNameOfWeek</th>\n",
       "      <th>FrenchDayNameOfWeek</th>\n",
       "      <th>DayNumberOfMonth</th>\n",
       "      <th>DayNumberOfYear</th>\n",
       "      <th>WeekNumberOfYear</th>\n",
       "      <th>EnglishMonthName</th>\n",
       "      <th>SpanishMonthName</th>\n",
       "      <th>FrenchMonthName</th>\n",
       "      <th>MonthNumberOfYear</th>\n",
       "      <th>CalendarQuarter</th>\n",
       "      <th>CalendarYear</th>\n",
       "      <th>CalendarSemester</th>\n",
       "      <th>FiscalQuarter</th>\n",
       "      <th>FiscalYear</th>\n",
       "      <th>FiscalSemester</th>\n",
       "    </tr>\n",
       "  </thead>\n",
       "  <tbody>\n",
       "    <tr>\n",
       "      <th>365</th>\n",
       "      <td>20060101</td>\n",
       "      <td>2006-01-01</td>\n",
       "      <td>1</td>\n",
       "      <td>Sunday</td>\n",
       "      <td>Domingo</td>\n",
       "      <td>Dimanche</td>\n",
       "      <td>1</td>\n",
       "      <td>1</td>\n",
       "      <td>1</td>\n",
       "      <td>January</td>\n",
       "      <td>Enero</td>\n",
       "      <td>Janvier</td>\n",
       "      <td>1</td>\n",
       "      <td>1</td>\n",
       "      <td>2006</td>\n",
       "      <td>1</td>\n",
       "      <td>3</td>\n",
       "      <td>2006</td>\n",
       "      <td>2</td>\n",
       "    </tr>\n",
       "    <tr>\n",
       "      <th>366</th>\n",
       "      <td>20060102</td>\n",
       "      <td>2006-01-02</td>\n",
       "      <td>2</td>\n",
       "      <td>Monday</td>\n",
       "      <td>Lunes</td>\n",
       "      <td>Lundi</td>\n",
       "      <td>2</td>\n",
       "      <td>2</td>\n",
       "      <td>1</td>\n",
       "      <td>January</td>\n",
       "      <td>Enero</td>\n",
       "      <td>Janvier</td>\n",
       "      <td>1</td>\n",
       "      <td>1</td>\n",
       "      <td>2006</td>\n",
       "      <td>1</td>\n",
       "      <td>3</td>\n",
       "      <td>2006</td>\n",
       "      <td>2</td>\n",
       "    </tr>\n",
       "    <tr>\n",
       "      <th>367</th>\n",
       "      <td>20060103</td>\n",
       "      <td>2006-01-03</td>\n",
       "      <td>3</td>\n",
       "      <td>Tuesday</td>\n",
       "      <td>Martes</td>\n",
       "      <td>Mardi</td>\n",
       "      <td>3</td>\n",
       "      <td>3</td>\n",
       "      <td>1</td>\n",
       "      <td>January</td>\n",
       "      <td>Enero</td>\n",
       "      <td>Janvier</td>\n",
       "      <td>1</td>\n",
       "      <td>1</td>\n",
       "      <td>2006</td>\n",
       "      <td>1</td>\n",
       "      <td>3</td>\n",
       "      <td>2006</td>\n",
       "      <td>2</td>\n",
       "    </tr>\n",
       "    <tr>\n",
       "      <th>368</th>\n",
       "      <td>20060104</td>\n",
       "      <td>2006-01-04</td>\n",
       "      <td>4</td>\n",
       "      <td>Wednesday</td>\n",
       "      <td>Miércoles</td>\n",
       "      <td>Mercredi</td>\n",
       "      <td>4</td>\n",
       "      <td>4</td>\n",
       "      <td>1</td>\n",
       "      <td>January</td>\n",
       "      <td>Enero</td>\n",
       "      <td>Janvier</td>\n",
       "      <td>1</td>\n",
       "      <td>1</td>\n",
       "      <td>2006</td>\n",
       "      <td>1</td>\n",
       "      <td>3</td>\n",
       "      <td>2006</td>\n",
       "      <td>2</td>\n",
       "    </tr>\n",
       "    <tr>\n",
       "      <th>369</th>\n",
       "      <td>20060105</td>\n",
       "      <td>2006-01-05</td>\n",
       "      <td>5</td>\n",
       "      <td>Thursday</td>\n",
       "      <td>Jueves</td>\n",
       "      <td>Jeudi</td>\n",
       "      <td>5</td>\n",
       "      <td>5</td>\n",
       "      <td>1</td>\n",
       "      <td>January</td>\n",
       "      <td>Enero</td>\n",
       "      <td>Janvier</td>\n",
       "      <td>1</td>\n",
       "      <td>1</td>\n",
       "      <td>2006</td>\n",
       "      <td>1</td>\n",
       "      <td>3</td>\n",
       "      <td>2006</td>\n",
       "      <td>2</td>\n",
       "    </tr>\n",
       "    <tr>\n",
       "      <th>...</th>\n",
       "      <td>...</td>\n",
       "      <td>...</td>\n",
       "      <td>...</td>\n",
       "      <td>...</td>\n",
       "      <td>...</td>\n",
       "      <td>...</td>\n",
       "      <td>...</td>\n",
       "      <td>...</td>\n",
       "      <td>...</td>\n",
       "      <td>...</td>\n",
       "      <td>...</td>\n",
       "      <td>...</td>\n",
       "      <td>...</td>\n",
       "      <td>...</td>\n",
       "      <td>...</td>\n",
       "      <td>...</td>\n",
       "      <td>...</td>\n",
       "      <td>...</td>\n",
       "      <td>...</td>\n",
       "    </tr>\n",
       "    <tr>\n",
       "      <th>3647</th>\n",
       "      <td>20141227</td>\n",
       "      <td>2014-12-27</td>\n",
       "      <td>7</td>\n",
       "      <td>Saturday</td>\n",
       "      <td>Sábado</td>\n",
       "      <td>Samedi</td>\n",
       "      <td>27</td>\n",
       "      <td>361</td>\n",
       "      <td>52</td>\n",
       "      <td>December</td>\n",
       "      <td>Diciembre</td>\n",
       "      <td>Décembre</td>\n",
       "      <td>12</td>\n",
       "      <td>4</td>\n",
       "      <td>2014</td>\n",
       "      <td>2</td>\n",
       "      <td>2</td>\n",
       "      <td>2014</td>\n",
       "      <td>1</td>\n",
       "    </tr>\n",
       "    <tr>\n",
       "      <th>3648</th>\n",
       "      <td>20141228</td>\n",
       "      <td>2014-12-28</td>\n",
       "      <td>1</td>\n",
       "      <td>Sunday</td>\n",
       "      <td>Domingo</td>\n",
       "      <td>Dimanche</td>\n",
       "      <td>28</td>\n",
       "      <td>362</td>\n",
       "      <td>53</td>\n",
       "      <td>December</td>\n",
       "      <td>Diciembre</td>\n",
       "      <td>Décembre</td>\n",
       "      <td>12</td>\n",
       "      <td>4</td>\n",
       "      <td>2014</td>\n",
       "      <td>2</td>\n",
       "      <td>2</td>\n",
       "      <td>2014</td>\n",
       "      <td>1</td>\n",
       "    </tr>\n",
       "    <tr>\n",
       "      <th>3649</th>\n",
       "      <td>20141229</td>\n",
       "      <td>2014-12-29</td>\n",
       "      <td>2</td>\n",
       "      <td>Monday</td>\n",
       "      <td>Lunes</td>\n",
       "      <td>Lundi</td>\n",
       "      <td>29</td>\n",
       "      <td>363</td>\n",
       "      <td>53</td>\n",
       "      <td>December</td>\n",
       "      <td>Diciembre</td>\n",
       "      <td>Décembre</td>\n",
       "      <td>12</td>\n",
       "      <td>4</td>\n",
       "      <td>2014</td>\n",
       "      <td>2</td>\n",
       "      <td>2</td>\n",
       "      <td>2014</td>\n",
       "      <td>1</td>\n",
       "    </tr>\n",
       "    <tr>\n",
       "      <th>3650</th>\n",
       "      <td>20141230</td>\n",
       "      <td>2014-12-30</td>\n",
       "      <td>3</td>\n",
       "      <td>Tuesday</td>\n",
       "      <td>Martes</td>\n",
       "      <td>Mardi</td>\n",
       "      <td>30</td>\n",
       "      <td>364</td>\n",
       "      <td>53</td>\n",
       "      <td>December</td>\n",
       "      <td>Diciembre</td>\n",
       "      <td>Décembre</td>\n",
       "      <td>12</td>\n",
       "      <td>4</td>\n",
       "      <td>2014</td>\n",
       "      <td>2</td>\n",
       "      <td>2</td>\n",
       "      <td>2014</td>\n",
       "      <td>1</td>\n",
       "    </tr>\n",
       "    <tr>\n",
       "      <th>3651</th>\n",
       "      <td>20141231</td>\n",
       "      <td>2014-12-31</td>\n",
       "      <td>4</td>\n",
       "      <td>Wednesday</td>\n",
       "      <td>Miércoles</td>\n",
       "      <td>Mercredi</td>\n",
       "      <td>31</td>\n",
       "      <td>365</td>\n",
       "      <td>53</td>\n",
       "      <td>December</td>\n",
       "      <td>Diciembre</td>\n",
       "      <td>Décembre</td>\n",
       "      <td>12</td>\n",
       "      <td>4</td>\n",
       "      <td>2014</td>\n",
       "      <td>2</td>\n",
       "      <td>2</td>\n",
       "      <td>2014</td>\n",
       "      <td>1</td>\n",
       "    </tr>\n",
       "  </tbody>\n",
       "</table>\n",
       "<p>3287 rows × 19 columns</p>\n",
       "</div>"
      ],
      "text/plain": [
       "       DateKey FullDateAlternateKey  DayNumberOfWeek EnglishDayNameOfWeek  \\\n",
       "365   20060101           2006-01-01                1               Sunday   \n",
       "366   20060102           2006-01-02                2               Monday   \n",
       "367   20060103           2006-01-03                3              Tuesday   \n",
       "368   20060104           2006-01-04                4            Wednesday   \n",
       "369   20060105           2006-01-05                5             Thursday   \n",
       "...        ...                  ...              ...                  ...   \n",
       "3647  20141227           2014-12-27                7             Saturday   \n",
       "3648  20141228           2014-12-28                1               Sunday   \n",
       "3649  20141229           2014-12-29                2               Monday   \n",
       "3650  20141230           2014-12-30                3              Tuesday   \n",
       "3651  20141231           2014-12-31                4            Wednesday   \n",
       "\n",
       "     SpanishDayNameOfWeek FrenchDayNameOfWeek  DayNumberOfMonth  \\\n",
       "365               Domingo            Dimanche                 1   \n",
       "366                 Lunes               Lundi                 2   \n",
       "367                Martes               Mardi                 3   \n",
       "368             Miércoles            Mercredi                 4   \n",
       "369                Jueves               Jeudi                 5   \n",
       "...                   ...                 ...               ...   \n",
       "3647               Sábado              Samedi                27   \n",
       "3648              Domingo            Dimanche                28   \n",
       "3649                Lunes               Lundi                29   \n",
       "3650               Martes               Mardi                30   \n",
       "3651            Miércoles            Mercredi                31   \n",
       "\n",
       "      DayNumberOfYear  WeekNumberOfYear EnglishMonthName SpanishMonthName  \\\n",
       "365                 1                 1          January            Enero   \n",
       "366                 2                 1          January            Enero   \n",
       "367                 3                 1          January            Enero   \n",
       "368                 4                 1          January            Enero   \n",
       "369                 5                 1          January            Enero   \n",
       "...               ...               ...              ...              ...   \n",
       "3647              361                52         December        Diciembre   \n",
       "3648              362                53         December        Diciembre   \n",
       "3649              363                53         December        Diciembre   \n",
       "3650              364                53         December        Diciembre   \n",
       "3651              365                53         December        Diciembre   \n",
       "\n",
       "     FrenchMonthName  MonthNumberOfYear  CalendarQuarter  CalendarYear  \\\n",
       "365          Janvier                  1                1          2006   \n",
       "366          Janvier                  1                1          2006   \n",
       "367          Janvier                  1                1          2006   \n",
       "368          Janvier                  1                1          2006   \n",
       "369          Janvier                  1                1          2006   \n",
       "...              ...                ...              ...           ...   \n",
       "3647        Décembre                 12                4          2014   \n",
       "3648        Décembre                 12                4          2014   \n",
       "3649        Décembre                 12                4          2014   \n",
       "3650        Décembre                 12                4          2014   \n",
       "3651        Décembre                 12                4          2014   \n",
       "\n",
       "      CalendarSemester  FiscalQuarter  FiscalYear  FiscalSemester  \n",
       "365                  1              3        2006               2  \n",
       "366                  1              3        2006               2  \n",
       "367                  1              3        2006               2  \n",
       "368                  1              3        2006               2  \n",
       "369                  1              3        2006               2  \n",
       "...                ...            ...         ...             ...  \n",
       "3647                 2              2        2014               1  \n",
       "3648                 2              2        2014               1  \n",
       "3649                 2              2        2014               1  \n",
       "3650                 2              2        2014               1  \n",
       "3651                 2              2        2014               1  \n",
       "\n",
       "[3287 rows x 19 columns]"
      ]
     },
     "execution_count": 197,
     "metadata": {},
     "output_type": "execute_result"
    }
   ],
   "source": [
    "data = pd.read_csv('Data/DimDate.csv')\n",
    "data1 =data[data['DateKey']  >= 20052231]\n",
    "data1"
   ]
  },
  {
   "cell_type": "code",
   "execution_count": 61,
   "metadata": {},
   "outputs": [
    {
     "data": {
      "text/html": [
       "<div>\n",
       "<style scoped>\n",
       "    .dataframe tbody tr th:only-of-type {\n",
       "        vertical-align: middle;\n",
       "    }\n",
       "\n",
       "    .dataframe tbody tr th {\n",
       "        vertical-align: top;\n",
       "    }\n",
       "\n",
       "    .dataframe thead th {\n",
       "        text-align: right;\n",
       "    }\n",
       "</style>\n",
       "<table border=\"1\" class=\"dataframe\">\n",
       "  <thead>\n",
       "    <tr style=\"text-align: right;\">\n",
       "      <th></th>\n",
       "      <th>DateKey</th>\n",
       "      <th>FullDateAlternateKey</th>\n",
       "      <th>DayNumberOfWeek</th>\n",
       "      <th>EnglishDayNameOfWeek</th>\n",
       "      <th>SpanishDayNameOfWeek</th>\n",
       "      <th>FrenchDayNameOfWeek</th>\n",
       "      <th>DayNumberOfMonth</th>\n",
       "      <th>DayNumberOfYear</th>\n",
       "      <th>WeekNumberOfYear</th>\n",
       "      <th>EnglishMonthName</th>\n",
       "      <th>SpanishMonthName</th>\n",
       "      <th>FrenchMonthName</th>\n",
       "      <th>MonthNumberOfYear</th>\n",
       "      <th>CalendarQuarter</th>\n",
       "      <th>CalendarYear</th>\n",
       "      <th>CalendarSemester</th>\n",
       "      <th>FiscalQuarter</th>\n",
       "      <th>FiscalYear</th>\n",
       "      <th>FiscalSemester</th>\n",
       "    </tr>\n",
       "  </thead>\n",
       "  <tbody>\n",
       "    <tr>\n",
       "      <th>0</th>\n",
       "      <td>20060101</td>\n",
       "      <td>2006-01-01</td>\n",
       "      <td>1</td>\n",
       "      <td>Sunday</td>\n",
       "      <td>Domingo</td>\n",
       "      <td>Dimanche</td>\n",
       "      <td>1</td>\n",
       "      <td>1</td>\n",
       "      <td>1</td>\n",
       "      <td>January</td>\n",
       "      <td>Enero</td>\n",
       "      <td>Janvier</td>\n",
       "      <td>1</td>\n",
       "      <td>1</td>\n",
       "      <td>2006</td>\n",
       "      <td>1</td>\n",
       "      <td>3</td>\n",
       "      <td>2006</td>\n",
       "      <td>2</td>\n",
       "    </tr>\n",
       "    <tr>\n",
       "      <th>1</th>\n",
       "      <td>20060102</td>\n",
       "      <td>2006-01-02</td>\n",
       "      <td>2</td>\n",
       "      <td>Monday</td>\n",
       "      <td>Lunes</td>\n",
       "      <td>Lundi</td>\n",
       "      <td>2</td>\n",
       "      <td>2</td>\n",
       "      <td>1</td>\n",
       "      <td>January</td>\n",
       "      <td>Enero</td>\n",
       "      <td>Janvier</td>\n",
       "      <td>1</td>\n",
       "      <td>1</td>\n",
       "      <td>2006</td>\n",
       "      <td>1</td>\n",
       "      <td>3</td>\n",
       "      <td>2006</td>\n",
       "      <td>2</td>\n",
       "    </tr>\n",
       "    <tr>\n",
       "      <th>2</th>\n",
       "      <td>20060103</td>\n",
       "      <td>2006-01-03</td>\n",
       "      <td>3</td>\n",
       "      <td>Tuesday</td>\n",
       "      <td>Martes</td>\n",
       "      <td>Mardi</td>\n",
       "      <td>3</td>\n",
       "      <td>3</td>\n",
       "      <td>1</td>\n",
       "      <td>January</td>\n",
       "      <td>Enero</td>\n",
       "      <td>Janvier</td>\n",
       "      <td>1</td>\n",
       "      <td>1</td>\n",
       "      <td>2006</td>\n",
       "      <td>1</td>\n",
       "      <td>3</td>\n",
       "      <td>2006</td>\n",
       "      <td>2</td>\n",
       "    </tr>\n",
       "    <tr>\n",
       "      <th>3</th>\n",
       "      <td>20060104</td>\n",
       "      <td>2006-01-04</td>\n",
       "      <td>4</td>\n",
       "      <td>Wednesday</td>\n",
       "      <td>Miércoles</td>\n",
       "      <td>Mercredi</td>\n",
       "      <td>4</td>\n",
       "      <td>4</td>\n",
       "      <td>1</td>\n",
       "      <td>January</td>\n",
       "      <td>Enero</td>\n",
       "      <td>Janvier</td>\n",
       "      <td>1</td>\n",
       "      <td>1</td>\n",
       "      <td>2006</td>\n",
       "      <td>1</td>\n",
       "      <td>3</td>\n",
       "      <td>2006</td>\n",
       "      <td>2</td>\n",
       "    </tr>\n",
       "    <tr>\n",
       "      <th>4</th>\n",
       "      <td>20060105</td>\n",
       "      <td>2006-01-05</td>\n",
       "      <td>5</td>\n",
       "      <td>Thursday</td>\n",
       "      <td>Jueves</td>\n",
       "      <td>Jeudi</td>\n",
       "      <td>5</td>\n",
       "      <td>5</td>\n",
       "      <td>1</td>\n",
       "      <td>January</td>\n",
       "      <td>Enero</td>\n",
       "      <td>Janvier</td>\n",
       "      <td>1</td>\n",
       "      <td>1</td>\n",
       "      <td>2006</td>\n",
       "      <td>1</td>\n",
       "      <td>3</td>\n",
       "      <td>2006</td>\n",
       "      <td>2</td>\n",
       "    </tr>\n",
       "    <tr>\n",
       "      <th>...</th>\n",
       "      <td>...</td>\n",
       "      <td>...</td>\n",
       "      <td>...</td>\n",
       "      <td>...</td>\n",
       "      <td>...</td>\n",
       "      <td>...</td>\n",
       "      <td>...</td>\n",
       "      <td>...</td>\n",
       "      <td>...</td>\n",
       "      <td>...</td>\n",
       "      <td>...</td>\n",
       "      <td>...</td>\n",
       "      <td>...</td>\n",
       "      <td>...</td>\n",
       "      <td>...</td>\n",
       "      <td>...</td>\n",
       "      <td>...</td>\n",
       "      <td>...</td>\n",
       "      <td>...</td>\n",
       "    </tr>\n",
       "    <tr>\n",
       "      <th>3282</th>\n",
       "      <td>20141227</td>\n",
       "      <td>2014-12-27</td>\n",
       "      <td>7</td>\n",
       "      <td>Saturday</td>\n",
       "      <td>Sábado</td>\n",
       "      <td>Samedi</td>\n",
       "      <td>27</td>\n",
       "      <td>361</td>\n",
       "      <td>52</td>\n",
       "      <td>December</td>\n",
       "      <td>Diciembre</td>\n",
       "      <td>Décembre</td>\n",
       "      <td>12</td>\n",
       "      <td>4</td>\n",
       "      <td>2014</td>\n",
       "      <td>2</td>\n",
       "      <td>2</td>\n",
       "      <td>2014</td>\n",
       "      <td>1</td>\n",
       "    </tr>\n",
       "    <tr>\n",
       "      <th>3283</th>\n",
       "      <td>20141228</td>\n",
       "      <td>2014-12-28</td>\n",
       "      <td>1</td>\n",
       "      <td>Sunday</td>\n",
       "      <td>Domingo</td>\n",
       "      <td>Dimanche</td>\n",
       "      <td>28</td>\n",
       "      <td>362</td>\n",
       "      <td>53</td>\n",
       "      <td>December</td>\n",
       "      <td>Diciembre</td>\n",
       "      <td>Décembre</td>\n",
       "      <td>12</td>\n",
       "      <td>4</td>\n",
       "      <td>2014</td>\n",
       "      <td>2</td>\n",
       "      <td>2</td>\n",
       "      <td>2014</td>\n",
       "      <td>1</td>\n",
       "    </tr>\n",
       "    <tr>\n",
       "      <th>3284</th>\n",
       "      <td>20141229</td>\n",
       "      <td>2014-12-29</td>\n",
       "      <td>2</td>\n",
       "      <td>Monday</td>\n",
       "      <td>Lunes</td>\n",
       "      <td>Lundi</td>\n",
       "      <td>29</td>\n",
       "      <td>363</td>\n",
       "      <td>53</td>\n",
       "      <td>December</td>\n",
       "      <td>Diciembre</td>\n",
       "      <td>Décembre</td>\n",
       "      <td>12</td>\n",
       "      <td>4</td>\n",
       "      <td>2014</td>\n",
       "      <td>2</td>\n",
       "      <td>2</td>\n",
       "      <td>2014</td>\n",
       "      <td>1</td>\n",
       "    </tr>\n",
       "    <tr>\n",
       "      <th>3285</th>\n",
       "      <td>20141230</td>\n",
       "      <td>2014-12-30</td>\n",
       "      <td>3</td>\n",
       "      <td>Tuesday</td>\n",
       "      <td>Martes</td>\n",
       "      <td>Mardi</td>\n",
       "      <td>30</td>\n",
       "      <td>364</td>\n",
       "      <td>53</td>\n",
       "      <td>December</td>\n",
       "      <td>Diciembre</td>\n",
       "      <td>Décembre</td>\n",
       "      <td>12</td>\n",
       "      <td>4</td>\n",
       "      <td>2014</td>\n",
       "      <td>2</td>\n",
       "      <td>2</td>\n",
       "      <td>2014</td>\n",
       "      <td>1</td>\n",
       "    </tr>\n",
       "    <tr>\n",
       "      <th>3286</th>\n",
       "      <td>20141231</td>\n",
       "      <td>2014-12-31</td>\n",
       "      <td>4</td>\n",
       "      <td>Wednesday</td>\n",
       "      <td>Miércoles</td>\n",
       "      <td>Mercredi</td>\n",
       "      <td>31</td>\n",
       "      <td>365</td>\n",
       "      <td>53</td>\n",
       "      <td>December</td>\n",
       "      <td>Diciembre</td>\n",
       "      <td>Décembre</td>\n",
       "      <td>12</td>\n",
       "      <td>4</td>\n",
       "      <td>2014</td>\n",
       "      <td>2</td>\n",
       "      <td>2</td>\n",
       "      <td>2014</td>\n",
       "      <td>1</td>\n",
       "    </tr>\n",
       "  </tbody>\n",
       "</table>\n",
       "<p>3287 rows × 19 columns</p>\n",
       "</div>"
      ],
      "text/plain": [
       "       DateKey FullDateAlternateKey  DayNumberOfWeek EnglishDayNameOfWeek  \\\n",
       "0     20060101           2006-01-01                1               Sunday   \n",
       "1     20060102           2006-01-02                2               Monday   \n",
       "2     20060103           2006-01-03                3              Tuesday   \n",
       "3     20060104           2006-01-04                4            Wednesday   \n",
       "4     20060105           2006-01-05                5             Thursday   \n",
       "...        ...                  ...              ...                  ...   \n",
       "3282  20141227           2014-12-27                7             Saturday   \n",
       "3283  20141228           2014-12-28                1               Sunday   \n",
       "3284  20141229           2014-12-29                2               Monday   \n",
       "3285  20141230           2014-12-30                3              Tuesday   \n",
       "3286  20141231           2014-12-31                4            Wednesday   \n",
       "\n",
       "     SpanishDayNameOfWeek FrenchDayNameOfWeek  DayNumberOfMonth  \\\n",
       "0                 Domingo            Dimanche                 1   \n",
       "1                   Lunes               Lundi                 2   \n",
       "2                  Martes               Mardi                 3   \n",
       "3               Miércoles            Mercredi                 4   \n",
       "4                  Jueves               Jeudi                 5   \n",
       "...                   ...                 ...               ...   \n",
       "3282               Sábado              Samedi                27   \n",
       "3283              Domingo            Dimanche                28   \n",
       "3284                Lunes               Lundi                29   \n",
       "3285               Martes               Mardi                30   \n",
       "3286            Miércoles            Mercredi                31   \n",
       "\n",
       "      DayNumberOfYear  WeekNumberOfYear EnglishMonthName SpanishMonthName  \\\n",
       "0                   1                 1          January            Enero   \n",
       "1                   2                 1          January            Enero   \n",
       "2                   3                 1          January            Enero   \n",
       "3                   4                 1          January            Enero   \n",
       "4                   5                 1          January            Enero   \n",
       "...               ...               ...              ...              ...   \n",
       "3282              361                52         December        Diciembre   \n",
       "3283              362                53         December        Diciembre   \n",
       "3284              363                53         December        Diciembre   \n",
       "3285              364                53         December        Diciembre   \n",
       "3286              365                53         December        Diciembre   \n",
       "\n",
       "     FrenchMonthName  MonthNumberOfYear  CalendarQuarter  CalendarYear  \\\n",
       "0            Janvier                  1                1          2006   \n",
       "1            Janvier                  1                1          2006   \n",
       "2            Janvier                  1                1          2006   \n",
       "3            Janvier                  1                1          2006   \n",
       "4            Janvier                  1                1          2006   \n",
       "...              ...                ...              ...           ...   \n",
       "3282        Décembre                 12                4          2014   \n",
       "3283        Décembre                 12                4          2014   \n",
       "3284        Décembre                 12                4          2014   \n",
       "3285        Décembre                 12                4          2014   \n",
       "3286        Décembre                 12                4          2014   \n",
       "\n",
       "      CalendarSemester  FiscalQuarter  FiscalYear  FiscalSemester  \n",
       "0                    1              3        2006               2  \n",
       "1                    1              3        2006               2  \n",
       "2                    1              3        2006               2  \n",
       "3                    1              3        2006               2  \n",
       "4                    1              3        2006               2  \n",
       "...                ...            ...         ...             ...  \n",
       "3282                 2              2        2014               1  \n",
       "3283                 2              2        2014               1  \n",
       "3284                 2              2        2014               1  \n",
       "3285                 2              2        2014               1  \n",
       "3286                 2              2        2014               1  \n",
       "\n",
       "[3287 rows x 19 columns]"
      ]
     },
     "execution_count": 61,
     "metadata": {},
     "output_type": "execute_result"
    }
   ],
   "source": [
    "pysqldf('''select * from data  where  DateKey >= 20052231''')"
   ]
  },
  {
   "cell_type": "markdown",
   "metadata": {},
   "source": [
    "these are the table in sqlite databases\n",
    "\n",
    "* databases name -> school\n",
    "* table name -> dimate"
   ]
  },
  {
   "cell_type": "code",
   "execution_count": 80,
   "metadata": {},
   "outputs": [],
   "source": [
    "dimdate = '''\n",
    "DROP TABLE IF EXISTS dimdate;\n",
    "\n",
    "CREATE TABLE dimdate (\n",
    "    DateKey                INTEGER NOT NULL PRIMARY KEY,\n",
    "    DateValue              DATE    NOT NULL,\n",
    "    DayNumberOfWeek        INTEGER NOT NULL,\n",
    "    DayNameOfWeek          TEXT    NOT NULL,\n",
    "    DayNumberOfMonth       INTEGER NOT NULL,\n",
    "    DayNumberOfYear        INTEGER NOT NULL,\n",
    "    WeekNumberOfYear       INTEGER NOT NULL,\n",
    "    MonthName              TEXT NOT NULL,\n",
    "    MonthNumberOfYear      INTEGER NOT NULL,\n",
    "    CalendarQuarter        INTEGER NOT NULL,\n",
    "    CalendarYear           INTEGER NOT NULL,\n",
    "    FiscalQuarter          INTEGER NOT NULL,\n",
    "    FiscalYear             INTEGER NOT NULL \n",
    ");\n",
    "''' "
   ]
  },
  {
   "cell_type": "markdown",
   "metadata": {},
   "source": [
    "create table in dimdate in schoool sqlite database "
   ]
  },
  {
   "cell_type": "code",
   "execution_count": 63,
   "metadata": {},
   "outputs": [
    {
     "data": {
      "text/plain": [
       "<sqlite3.Cursor at 0x1eb2c64af40>"
      ]
     },
     "execution_count": 63,
     "metadata": {},
     "output_type": "execute_result"
    }
   ],
   "source": [
    "cur.executescript(dimdate)"
   ]
  },
  {
   "cell_type": "markdown",
   "metadata": {},
   "source": [
    "pndas load the csv file in slite database "
   ]
  },
  {
   "cell_type": "code",
   "execution_count": 78,
   "metadata": {},
   "outputs": [
    {
     "data": {
      "text/plain": [
       "3652"
      ]
     },
     "execution_count": 78,
     "metadata": {},
     "output_type": "execute_result"
    }
   ],
   "source": [
    "data.to_sql('dimate', conn, if_exists='replace', index=False)"
   ]
  },
  {
   "cell_type": "markdown",
   "metadata": {},
   "source": [
    "fetch the all row in dimate table "
   ]
  },
  {
   "cell_type": "code",
   "execution_count": 145,
   "metadata": {},
   "outputs": [
    {
     "data": {
      "text/plain": [
       "[(3652,)]"
      ]
     },
     "execution_count": 145,
     "metadata": {},
     "output_type": "execute_result"
    }
   ],
   "source": [
    "cur.execute('select  count(DateKey)  from dimate').fetchall()"
   ]
  },
  {
   "cell_type": "markdown",
   "metadata": {},
   "source": [
    "display the dimate table in sqlite database"
   ]
  },
  {
   "cell_type": "code",
   "execution_count": 128,
   "metadata": {},
   "outputs": [],
   "source": [
    "# for row in cur.execute('select * from dimate'):\n",
    "#     print(row)"
   ]
  },
  {
   "cell_type": "code",
   "execution_count": 126,
   "metadata": {},
   "outputs": [],
   "source": [
    "factinternetsales = '''\n",
    "\n",
    "DROP TABLE IF EXISTS factinternetsales;\n",
    "\n",
    "CREATE TABLE [factinternetsales](\n",
    "    [ProductKey]             [int]      NOT NULL ,\n",
    "    [OrderDateKey]           [int]      NOT NULL,\n",
    "    [DueDateKey]             [int]      NOT NULL,\n",
    "    [ShipDateKey]            [int]      NOT NULL,\n",
    "    [CustomerKey]            [int]      NOT NULL,\n",
    "    [PromotionKey]           [int]      NOT NULL,\n",
    "    [CurrencyKey]            [int]      NOT NULL,\n",
    "    [SalesTerritoryKey]      [int]      NOT NULL,\n",
    "    [OrderQuantity]          [smallint] NOT NULL,\n",
    "    [UnitPrice]              [money]    NOT NULL,\n",
    "    [UnitPriceDiscountPct]   [float]    NOT NULL,\n",
    "    [DiscountAmount]         [float]    NOT NULL,\n",
    "    [ProductStandardCost]    [money]    NOT NULL,\n",
    "    [TotalProductCost]       [money]    NOT NULL,\n",
    "    [SalesAmount]            [money]    NOT NULL  CHECK (SalesAmount >= 0 ),\n",
    "    [TaxAmt]                 [money]    NOT NULL,\n",
    "    [Freight]                [money]    NOT NULL,\n",
    "    [OrderDate]              [datetime] NULL,\n",
    "    [DueDate]                [datetime] NULL,\n",
    "    [ShipDate]               [datetime] NULL,\n",
    "    [TaxRate]                [real]     NULL  DEFAULT 0, \n",
    "    [ProfitMargin]           [real]     NULL,\n",
    "    [InsertDate]             TIMESTAMP NOT NULL DEFAULT CURRENT_TIMESTAMP,\n",
    "    FOREIGN KEY(ProductKey)        REFERENCES dimproduct(ProductKey),\n",
    "    FOREIGN KEY(SalesTerritoryKey) REFERENCES dimsalesterritory(SalesTerritoryKey)\n",
    ");\n",
    "'''"
   ]
  },
  {
   "cell_type": "code",
   "execution_count": 127,
   "metadata": {},
   "outputs": [
    {
     "data": {
      "text/plain": [
       "<sqlite3.Cursor at 0x1eb2c64af40>"
      ]
     },
     "execution_count": 127,
     "metadata": {},
     "output_type": "execute_result"
    }
   ],
   "source": [
    "cur.executescript(factinternetsales)"
   ]
  },
  {
   "cell_type": "code",
   "execution_count": 123,
   "metadata": {},
   "outputs": [
    {
     "data": {
      "text/plain": [
       "ProductKey                 int64\n",
       "OrderDateKey               int64\n",
       "DueDateKey                 int64\n",
       "ShipDateKey                int64\n",
       "CustomerKey                int64\n",
       "PromotionKey               int64\n",
       "CurrencyKey                int64\n",
       "SalesTerritoryKey          int64\n",
       "SalesOrderNumber          object\n",
       "SalesOrderLineNumber       int64\n",
       "RevisionNumber             int64\n",
       "OrderQuantity              int64\n",
       "UnitPrice                float64\n",
       "ExtendedAmount           float64\n",
       "UnitPriceDiscountPct       int64\n",
       "DiscountAmount             int64\n",
       "ProductStandardCost      float64\n",
       "TotalProductCost         float64\n",
       "SalesAmount              float64\n",
       "TaxAmt                   float64\n",
       "Freight                  float64\n",
       "CarrierTrackingNumber    float64\n",
       "CustomerPONumber         float64\n",
       "OrderDate                 object\n",
       "DueDate                   object\n",
       "ShipDate                  object\n",
       "dtype: object"
      ]
     },
     "execution_count": 123,
     "metadata": {},
     "output_type": "execute_result"
    }
   ],
   "source": [
    "sales = pd.read_csv('data/FactInternetSales2014.csv')\n",
    "sales.dtypes"
   ]
  },
  {
   "cell_type": "code",
   "execution_count": 73,
   "metadata": {},
   "outputs": [],
   "source": [
    "facsales = '''\n",
    "SELECT \n",
    "       ProductKey,\n",
    "       OrderDateKey,\n",
    "       DueDateKey,\n",
    "       ShipDateKey,\n",
    "       CustomerKey,\n",
    "       PromotionKey,\n",
    "       CurrencyKey,\n",
    "       SalesTerritoryKey,\n",
    "       OrderQuantity,\n",
    "       UnitPrice,\n",
    "       UnitPriceDiscountPct,\n",
    "       DiscountAmount,\n",
    "       ProductStandardCost,\n",
    "       TotalProductCost,\n",
    "       SalesAmount,\n",
    "       TaxAmt,\n",
    "       Freight,\n",
    "       OrderDate,\n",
    "       DueDate,\n",
    "       ShipDate,\n",
    "       round((TaxAmt/SalesAmount),2) as TaxRate,\n",
    "       round(((SalesAmount - TotalProductCost ) / SalesAmount), 2) as ProfitMargin\n",
    "  FROM dffactinternetsales  \n",
    "'''"
   ]
  },
  {
   "cell_type": "code",
   "execution_count": 131,
   "metadata": {},
   "outputs": [],
   "source": [
    "# pysqldf(facsales)"
   ]
  }
 ],
 "metadata": {
  "kernelspec": {
   "display_name": "Python 3",
   "language": "python",
   "name": "python3"
  },
  "language_info": {
   "codemirror_mode": {
    "name": "ipython",
    "version": 3
   },
   "file_extension": ".py",
   "mimetype": "text/x-python",
   "name": "python",
   "nbconvert_exporter": "python",
   "pygments_lexer": "ipython3",
   "version": "3.10.11"
  }
 },
 "nbformat": 4,
 "nbformat_minor": 2
}
